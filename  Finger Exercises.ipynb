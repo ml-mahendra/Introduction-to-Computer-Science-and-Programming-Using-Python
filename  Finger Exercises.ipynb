{
 "cells": [
  {
   "cell_type": "markdown",
   "id": "471b270b-e800-435e-a5e3-086f3fa7031e",
   "metadata": {},
   "source": [
    "## This Notebook Contains the Solutions for the Finger Exercises of the Open Course \n",
    "                                        Introduction to ComputerScience and Programming Using Python by MIT"
   ]
  },
  {
   "cell_type": "markdown",
   "id": "b1977167-6eac-46e2-94ff-0b98772388a8",
   "metadata": {},
   "source": [
    "### Finger Exercise Lecture 1"
   ]
  },
  {
   "cell_type": "markdown",
   "id": "7fd6bf01-4653-45d3-ba38-199eda283569",
   "metadata": {},
   "source": [
    "Assume three variables are already defined for you: a, b, and c. Create a variable called total that adds a and b then multiplies the result by c. Include a last line in your code to print the value: print(total)"
   ]
  },
  {
   "cell_type": "code",
   "execution_count": null,
   "id": "46e7172c-c90e-4958-87b1-7ce7982a6255",
   "metadata": {},
   "outputs": [],
   "source": [
    "# We don't have to define the variables a,b, & c as they are already defined. \n",
    "\n",
    "total = (a+b)*c\n",
    "print(total)"
   ]
  },
  {
   "cell_type": "code",
   "execution_count": null,
   "id": "897b5adb-7cd7-4398-8246-1fcef1372a57",
   "metadata": {},
   "outputs": [],
   "source": []
  }
 ],
 "metadata": {
  "kernelspec": {
   "display_name": "Python 3 (ipykernel)",
   "language": "python",
   "name": "python3"
  },
  "language_info": {
   "codemirror_mode": {
    "name": "ipython",
    "version": 3
   },
   "file_extension": ".py",
   "mimetype": "text/x-python",
   "name": "python",
   "nbconvert_exporter": "python",
   "pygments_lexer": "ipython3",
   "version": "3.12.3"
  }
 },
 "nbformat": 4,
 "nbformat_minor": 5
}
