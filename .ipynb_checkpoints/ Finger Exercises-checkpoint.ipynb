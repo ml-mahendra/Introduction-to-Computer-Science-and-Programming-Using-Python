{
 "cells": [
  {
   "cell_type": "markdown",
   "id": "3c3b8ab4-c57d-4dc9-998f-97860d366aa6",
   "metadata": {},
   "source": [
    "## This Notebook Contains the Solutions for the Finger Exercises of the Open Course \n",
    "                                        Introduction to Computer Science and Programming Using Python by MIT"
   ]
  },
  {
   "cell_type": "markdown",
   "id": "177bfe89-d69a-4bea-8e11-99d22d6d3098",
   "metadata": {},
   "source": [
    "### Finger Exercise Lecture 1"
   ]
  },
  {
   "cell_type": "raw",
   "id": "af325d97-27ca-4211-8f68-717f989bd838",
   "metadata": {},
   "source": [
    "Assume three variables are already defined for you: a, b, and c. Create a variable called total that adds a and b then multiplies the result by c. Include a last line in your code to print the value: print(total)"
   ]
  },
  {
   "cell_type": "code",
   "execution_count": null,
   "id": "10a5b36f-a9fa-422b-8392-5bd1c97c4ac4",
   "metadata": {},
   "outputs": [],
   "source": [
    "# Defining the variables a,b, & c are not required. \n",
    "\n",
    "total = (a+b)*c\n",
    "print(total)"
   ]
  },
  {
   "cell_type": "code",
   "execution_count": null,
   "id": "c8ed4482-d140-4692-80bf-e90cb91ba62e",
   "metadata": {},
   "outputs": [],
   "source": []
  },
  {
   "cell_type": "code",
   "execution_count": null,
   "id": "eecc3249-4715-4476-9789-6c42c381b04a",
   "metadata": {},
   "outputs": [],
   "source": []
  }
 ],
 "metadata": {
  "kernelspec": {
   "display_name": "Python 3 (ipykernel)",
   "language": "python",
   "name": "python3"
  },
  "language_info": {
   "codemirror_mode": {
    "name": "ipython",
    "version": 3
   },
   "file_extension": ".py",
   "mimetype": "text/x-python",
   "name": "python",
   "nbconvert_exporter": "python",
   "pygments_lexer": "ipython3",
   "version": "3.12.3"
  }
 },
 "nbformat": 4,
 "nbformat_minor": 5
}
